{
 "cells": [
  {
   "cell_type": "markdown",
   "metadata": {},
   "source": [
    "amituofo"
   ]
  },
  {
   "cell_type": "code",
   "execution_count": 39,
   "metadata": {},
   "outputs": [],
   "source": [
    "import whisper\n",
    "\n",
    "class ASRManager:\n",
    "    def __init__(self):\n",
    "        # initialize the model here\n",
    "        self.model = whisper.load_model(\"base\")\n",
    "        pass\n",
    "\n",
    "    def transcribe(self, audio_bytes: bytes) -> str:\n",
    "        # perform ASR transcription\n",
    "        \n",
    "        audio = open(\"temp.wav\", \"wb\")\n",
    "        audio.write(audio_bytes)\n",
    "        #audio = np.array(audio_bytes,dtype=float)\n",
    "        #audio = np.frombuffer(audio_bytes)\n",
    "        result = self.model.transcribe(\"temp.wav\")\n",
    "        return result['text']\n",
    "        \n",
    "        #return audio_bytes\n",
    "        #return \"test\""
   ]
  },
  {
   "cell_type": "code",
   "execution_count": 42,
   "metadata": {},
   "outputs": [
    {
     "name": "stdout",
     "output_type": "stream",
     "text": [
      " Headiness 130, Target is orange and gray missile. Tool to deploy is machine gun.\n"
     ]
    }
   ],
   "source": [
    "import base64\n",
    "from pathlib import Path\n",
    "\n",
    "#filepath = \"C:/Users/Wan Sim/Documents/GitHub/til-24-base/asr/src/testData/audio/audio_0.wav\"\n",
    "filepath = Path(f\"testData/audio/audio_9.wav\")\n",
    "instance = \"\"\n",
    "with open(filepath, \"rb\") as file:\n",
    "    audio_bytes = file.read()\n",
    "    instance = base64.b64encode(audio_bytes).decode(\"ascii\")\n",
    "\n",
    "audiob = base64.b64decode(instance)\n",
    "asr = ASRManager()\n",
    "transcript = asr.transcribe(audiob)\n",
    "print(transcript)"
   ]
  }
 ],
 "metadata": {
  "kernelspec": {
   "display_name": "Python 3",
   "language": "python",
   "name": "python3"
  },
  "language_info": {
   "codemirror_mode": {
    "name": "ipython",
    "version": 3
   },
   "file_extension": ".py",
   "mimetype": "text/x-python",
   "name": "python",
   "nbconvert_exporter": "python",
   "pygments_lexer": "ipython3",
   "version": "3.10.6"
  }
 },
 "nbformat": 4,
 "nbformat_minor": 2
}
