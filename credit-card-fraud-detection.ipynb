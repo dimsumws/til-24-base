{
 "cells": [
  {
   "cell_type": "code",
   "execution_count": 1,
   "id": "78a95de0",
   "metadata": {
    "execution": {
     "iopub.execute_input": "2024-06-14T10:12:26.578576Z",
     "iopub.status.busy": "2024-06-14T10:12:26.578070Z",
     "iopub.status.idle": "2024-06-14T10:12:33.799669Z",
     "shell.execute_reply": "2024-06-14T10:12:33.798446Z"
    },
    "papermill": {
     "duration": 7.231802,
     "end_time": "2024-06-14T10:12:33.802716",
     "exception": false,
     "start_time": "2024-06-14T10:12:26.570914",
     "status": "completed"
    },
    "tags": []
   },
   "outputs": [
    {
     "name": "stdout",
     "output_type": "stream",
     "text": [
      "/kaggle/input/creditcardfraud/creditcard.csv\n"
     ]
    }
   ],
   "source": [
    "import os\n",
    "import numpy as np \n",
    "import pandas as pd \n",
    "from sklearn.model_selection import train_test_split\n",
    "\n",
    "for dirname, _, filenames in os.walk('/kaggle/input'):\n",
    "    for filename in filenames:\n",
    "        print(os.path.join(dirname, filename))\n",
    "        \n",
    "data = pd.read_csv(os.path.join(dirname, filename))"
   ]
  },
  {
   "cell_type": "code",
   "execution_count": 2,
   "id": "f1e108fd",
   "metadata": {
    "execution": {
     "iopub.execute_input": "2024-06-14T10:12:33.814931Z",
     "iopub.status.busy": "2024-06-14T10:12:33.814491Z",
     "iopub.status.idle": "2024-06-14T10:12:33.862789Z",
     "shell.execute_reply": "2024-06-14T10:12:33.861443Z"
    },
    "papermill": {
     "duration": 0.057702,
     "end_time": "2024-06-14T10:12:33.865811",
     "exception": false,
     "start_time": "2024-06-14T10:12:33.808109",
     "status": "completed"
    },
    "tags": []
   },
   "outputs": [
    {
     "data": {
      "text/html": [
       "<div>\n",
       "<style scoped>\n",
       "    .dataframe tbody tr th:only-of-type {\n",
       "        vertical-align: middle;\n",
       "    }\n",
       "\n",
       "    .dataframe tbody tr th {\n",
       "        vertical-align: top;\n",
       "    }\n",
       "\n",
       "    .dataframe thead th {\n",
       "        text-align: right;\n",
       "    }\n",
       "</style>\n",
       "<table border=\"1\" class=\"dataframe\">\n",
       "  <thead>\n",
       "    <tr style=\"text-align: right;\">\n",
       "      <th></th>\n",
       "      <th>Time</th>\n",
       "      <th>V1</th>\n",
       "      <th>V2</th>\n",
       "      <th>V3</th>\n",
       "      <th>V4</th>\n",
       "      <th>V5</th>\n",
       "      <th>V6</th>\n",
       "      <th>V7</th>\n",
       "      <th>V8</th>\n",
       "      <th>V9</th>\n",
       "      <th>...</th>\n",
       "      <th>V21</th>\n",
       "      <th>V22</th>\n",
       "      <th>V23</th>\n",
       "      <th>V24</th>\n",
       "      <th>V25</th>\n",
       "      <th>V26</th>\n",
       "      <th>V27</th>\n",
       "      <th>V28</th>\n",
       "      <th>Amount</th>\n",
       "      <th>Class</th>\n",
       "    </tr>\n",
       "  </thead>\n",
       "  <tbody>\n",
       "    <tr>\n",
       "      <th>0</th>\n",
       "      <td>0.0</td>\n",
       "      <td>-1.359807</td>\n",
       "      <td>-0.072781</td>\n",
       "      <td>2.536347</td>\n",
       "      <td>1.378155</td>\n",
       "      <td>-0.338321</td>\n",
       "      <td>0.462388</td>\n",
       "      <td>0.239599</td>\n",
       "      <td>0.098698</td>\n",
       "      <td>0.363787</td>\n",
       "      <td>...</td>\n",
       "      <td>-0.018307</td>\n",
       "      <td>0.277838</td>\n",
       "      <td>-0.110474</td>\n",
       "      <td>0.066928</td>\n",
       "      <td>0.128539</td>\n",
       "      <td>-0.189115</td>\n",
       "      <td>0.133558</td>\n",
       "      <td>-0.021053</td>\n",
       "      <td>149.62</td>\n",
       "      <td>0</td>\n",
       "    </tr>\n",
       "    <tr>\n",
       "      <th>1</th>\n",
       "      <td>0.0</td>\n",
       "      <td>1.191857</td>\n",
       "      <td>0.266151</td>\n",
       "      <td>0.166480</td>\n",
       "      <td>0.448154</td>\n",
       "      <td>0.060018</td>\n",
       "      <td>-0.082361</td>\n",
       "      <td>-0.078803</td>\n",
       "      <td>0.085102</td>\n",
       "      <td>-0.255425</td>\n",
       "      <td>...</td>\n",
       "      <td>-0.225775</td>\n",
       "      <td>-0.638672</td>\n",
       "      <td>0.101288</td>\n",
       "      <td>-0.339846</td>\n",
       "      <td>0.167170</td>\n",
       "      <td>0.125895</td>\n",
       "      <td>-0.008983</td>\n",
       "      <td>0.014724</td>\n",
       "      <td>2.69</td>\n",
       "      <td>0</td>\n",
       "    </tr>\n",
       "    <tr>\n",
       "      <th>2</th>\n",
       "      <td>1.0</td>\n",
       "      <td>-1.358354</td>\n",
       "      <td>-1.340163</td>\n",
       "      <td>1.773209</td>\n",
       "      <td>0.379780</td>\n",
       "      <td>-0.503198</td>\n",
       "      <td>1.800499</td>\n",
       "      <td>0.791461</td>\n",
       "      <td>0.247676</td>\n",
       "      <td>-1.514654</td>\n",
       "      <td>...</td>\n",
       "      <td>0.247998</td>\n",
       "      <td>0.771679</td>\n",
       "      <td>0.909412</td>\n",
       "      <td>-0.689281</td>\n",
       "      <td>-0.327642</td>\n",
       "      <td>-0.139097</td>\n",
       "      <td>-0.055353</td>\n",
       "      <td>-0.059752</td>\n",
       "      <td>378.66</td>\n",
       "      <td>0</td>\n",
       "    </tr>\n",
       "    <tr>\n",
       "      <th>3</th>\n",
       "      <td>1.0</td>\n",
       "      <td>-0.966272</td>\n",
       "      <td>-0.185226</td>\n",
       "      <td>1.792993</td>\n",
       "      <td>-0.863291</td>\n",
       "      <td>-0.010309</td>\n",
       "      <td>1.247203</td>\n",
       "      <td>0.237609</td>\n",
       "      <td>0.377436</td>\n",
       "      <td>-1.387024</td>\n",
       "      <td>...</td>\n",
       "      <td>-0.108300</td>\n",
       "      <td>0.005274</td>\n",
       "      <td>-0.190321</td>\n",
       "      <td>-1.175575</td>\n",
       "      <td>0.647376</td>\n",
       "      <td>-0.221929</td>\n",
       "      <td>0.062723</td>\n",
       "      <td>0.061458</td>\n",
       "      <td>123.50</td>\n",
       "      <td>0</td>\n",
       "    </tr>\n",
       "    <tr>\n",
       "      <th>4</th>\n",
       "      <td>2.0</td>\n",
       "      <td>-1.158233</td>\n",
       "      <td>0.877737</td>\n",
       "      <td>1.548718</td>\n",
       "      <td>0.403034</td>\n",
       "      <td>-0.407193</td>\n",
       "      <td>0.095921</td>\n",
       "      <td>0.592941</td>\n",
       "      <td>-0.270533</td>\n",
       "      <td>0.817739</td>\n",
       "      <td>...</td>\n",
       "      <td>-0.009431</td>\n",
       "      <td>0.798278</td>\n",
       "      <td>-0.137458</td>\n",
       "      <td>0.141267</td>\n",
       "      <td>-0.206010</td>\n",
       "      <td>0.502292</td>\n",
       "      <td>0.219422</td>\n",
       "      <td>0.215153</td>\n",
       "      <td>69.99</td>\n",
       "      <td>0</td>\n",
       "    </tr>\n",
       "  </tbody>\n",
       "</table>\n",
       "<p>5 rows × 31 columns</p>\n",
       "</div>"
      ],
      "text/plain": [
       "   Time        V1        V2        V3        V4        V5        V6        V7  \\\n",
       "0   0.0 -1.359807 -0.072781  2.536347  1.378155 -0.338321  0.462388  0.239599   \n",
       "1   0.0  1.191857  0.266151  0.166480  0.448154  0.060018 -0.082361 -0.078803   \n",
       "2   1.0 -1.358354 -1.340163  1.773209  0.379780 -0.503198  1.800499  0.791461   \n",
       "3   1.0 -0.966272 -0.185226  1.792993 -0.863291 -0.010309  1.247203  0.237609   \n",
       "4   2.0 -1.158233  0.877737  1.548718  0.403034 -0.407193  0.095921  0.592941   \n",
       "\n",
       "         V8        V9  ...       V21       V22       V23       V24       V25  \\\n",
       "0  0.098698  0.363787  ... -0.018307  0.277838 -0.110474  0.066928  0.128539   \n",
       "1  0.085102 -0.255425  ... -0.225775 -0.638672  0.101288 -0.339846  0.167170   \n",
       "2  0.247676 -1.514654  ...  0.247998  0.771679  0.909412 -0.689281 -0.327642   \n",
       "3  0.377436 -1.387024  ... -0.108300  0.005274 -0.190321 -1.175575  0.647376   \n",
       "4 -0.270533  0.817739  ... -0.009431  0.798278 -0.137458  0.141267 -0.206010   \n",
       "\n",
       "        V26       V27       V28  Amount  Class  \n",
       "0 -0.189115  0.133558 -0.021053  149.62      0  \n",
       "1  0.125895 -0.008983  0.014724    2.69      0  \n",
       "2 -0.139097 -0.055353 -0.059752  378.66      0  \n",
       "3 -0.221929  0.062723  0.061458  123.50      0  \n",
       "4  0.502292  0.219422  0.215153   69.99      0  \n",
       "\n",
       "[5 rows x 31 columns]"
      ]
     },
     "execution_count": 2,
     "metadata": {},
     "output_type": "execute_result"
    }
   ],
   "source": [
    "data.head()"
   ]
  },
  {
   "cell_type": "code",
   "execution_count": 3,
   "id": "07216922",
   "metadata": {
    "execution": {
     "iopub.execute_input": "2024-06-14T10:12:33.878767Z",
     "iopub.status.busy": "2024-06-14T10:12:33.878331Z",
     "iopub.status.idle": "2024-06-14T10:12:33.924282Z",
     "shell.execute_reply": "2024-06-14T10:12:33.922777Z"
    },
    "papermill": {
     "duration": 0.05569,
     "end_time": "2024-06-14T10:12:33.927085",
     "exception": false,
     "start_time": "2024-06-14T10:12:33.871395",
     "status": "completed"
    },
    "tags": []
   },
   "outputs": [
    {
     "name": "stdout",
     "output_type": "stream",
     "text": [
      "<class 'pandas.core.frame.DataFrame'>\n",
      "RangeIndex: 284807 entries, 0 to 284806\n",
      "Data columns (total 31 columns):\n",
      " #   Column  Non-Null Count   Dtype  \n",
      "---  ------  --------------   -----  \n",
      " 0   Time    284807 non-null  float64\n",
      " 1   V1      284807 non-null  float64\n",
      " 2   V2      284807 non-null  float64\n",
      " 3   V3      284807 non-null  float64\n",
      " 4   V4      284807 non-null  float64\n",
      " 5   V5      284807 non-null  float64\n",
      " 6   V6      284807 non-null  float64\n",
      " 7   V7      284807 non-null  float64\n",
      " 8   V8      284807 non-null  float64\n",
      " 9   V9      284807 non-null  float64\n",
      " 10  V10     284807 non-null  float64\n",
      " 11  V11     284807 non-null  float64\n",
      " 12  V12     284807 non-null  float64\n",
      " 13  V13     284807 non-null  float64\n",
      " 14  V14     284807 non-null  float64\n",
      " 15  V15     284807 non-null  float64\n",
      " 16  V16     284807 non-null  float64\n",
      " 17  V17     284807 non-null  float64\n",
      " 18  V18     284807 non-null  float64\n",
      " 19  V19     284807 non-null  float64\n",
      " 20  V20     284807 non-null  float64\n",
      " 21  V21     284807 non-null  float64\n",
      " 22  V22     284807 non-null  float64\n",
      " 23  V23     284807 non-null  float64\n",
      " 24  V24     284807 non-null  float64\n",
      " 25  V25     284807 non-null  float64\n",
      " 26  V26     284807 non-null  float64\n",
      " 27  V27     284807 non-null  float64\n",
      " 28  V28     284807 non-null  float64\n",
      " 29  Amount  284807 non-null  float64\n",
      " 30  Class   284807 non-null  int64  \n",
      "dtypes: float64(30), int64(1)\n",
      "memory usage: 67.4 MB\n"
     ]
    }
   ],
   "source": [
    "data.info()"
   ]
  },
  {
   "cell_type": "code",
   "execution_count": 4,
   "id": "5e3b819e",
   "metadata": {
    "execution": {
     "iopub.execute_input": "2024-06-14T10:12:33.941578Z",
     "iopub.status.busy": "2024-06-14T10:12:33.939835Z",
     "iopub.status.idle": "2024-06-14T10:12:33.947117Z",
     "shell.execute_reply": "2024-06-14T10:12:33.945813Z"
    },
    "papermill": {
     "duration": 0.016991,
     "end_time": "2024-06-14T10:12:33.949819",
     "exception": false,
     "start_time": "2024-06-14T10:12:33.932828",
     "status": "completed"
    },
    "tags": []
   },
   "outputs": [
    {
     "name": "stdout",
     "output_type": "stream",
     "text": [
      "(284807, 31)\n"
     ]
    }
   ],
   "source": [
    "print(data.shape)"
   ]
  },
  {
   "cell_type": "code",
   "execution_count": 5,
   "id": "786c9241",
   "metadata": {
    "execution": {
     "iopub.execute_input": "2024-06-14T10:12:33.964202Z",
     "iopub.status.busy": "2024-06-14T10:12:33.962899Z",
     "iopub.status.idle": "2024-06-14T10:12:33.978230Z",
     "shell.execute_reply": "2024-06-14T10:12:33.976927Z"
    },
    "papermill": {
     "duration": 0.025202,
     "end_time": "2024-06-14T10:12:33.980855",
     "exception": false,
     "start_time": "2024-06-14T10:12:33.955653",
     "status": "completed"
    },
    "tags": []
   },
   "outputs": [
    {
     "data": {
      "text/plain": [
       "Class\n",
       "0    284315\n",
       "1       492\n",
       "Name: count, dtype: int64"
      ]
     },
     "execution_count": 5,
     "metadata": {},
     "output_type": "execute_result"
    }
   ],
   "source": [
    "data['Class'].value_counts()"
   ]
  },
  {
   "cell_type": "code",
   "execution_count": 6,
   "id": "fb3fbe32",
   "metadata": {
    "execution": {
     "iopub.execute_input": "2024-06-14T10:12:33.994820Z",
     "iopub.status.busy": "2024-06-14T10:12:33.994393Z",
     "iopub.status.idle": "2024-06-14T10:12:34.050506Z",
     "shell.execute_reply": "2024-06-14T10:12:34.049014Z"
    },
    "papermill": {
     "duration": 0.066513,
     "end_time": "2024-06-14T10:12:34.053327",
     "exception": false,
     "start_time": "2024-06-14T10:12:33.986814",
     "status": "completed"
    },
    "tags": []
   },
   "outputs": [
    {
     "name": "stdout",
     "output_type": "stream",
     "text": [
      "True\n",
      "(284315, 31)\n"
     ]
    }
   ],
   "source": [
    "not_fraud = data[data.Class == 0]\n",
    "print(not_fraud[\"Class\"].nunique() == 1)\n",
    "print(not_fraud.shape)"
   ]
  },
  {
   "cell_type": "code",
   "execution_count": 7,
   "id": "c0a223c4",
   "metadata": {
    "execution": {
     "iopub.execute_input": "2024-06-14T10:12:34.067890Z",
     "iopub.status.busy": "2024-06-14T10:12:34.066829Z",
     "iopub.status.idle": "2024-06-14T10:12:34.076220Z",
     "shell.execute_reply": "2024-06-14T10:12:34.074711Z"
    },
    "papermill": {
     "duration": 0.019632,
     "end_time": "2024-06-14T10:12:34.079015",
     "exception": false,
     "start_time": "2024-06-14T10:12:34.059383",
     "status": "completed"
    },
    "tags": []
   },
   "outputs": [
    {
     "name": "stdout",
     "output_type": "stream",
     "text": [
      "True\n",
      "(492, 31)\n"
     ]
    }
   ],
   "source": [
    "fraud = data[data.Class == 1]\n",
    "print(fraud[\"Class\"].nunique() == 1)\n",
    "print(fraud.shape)"
   ]
  },
  {
   "cell_type": "code",
   "execution_count": 8,
   "id": "4271b531",
   "metadata": {
    "execution": {
     "iopub.execute_input": "2024-06-14T10:12:34.093136Z",
     "iopub.status.busy": "2024-06-14T10:12:34.092691Z",
     "iopub.status.idle": "2024-06-14T10:12:34.099247Z",
     "shell.execute_reply": "2024-06-14T10:12:34.097911Z"
    },
    "papermill": {
     "duration": 0.016905,
     "end_time": "2024-06-14T10:12:34.102176",
     "exception": false,
     "start_time": "2024-06-14T10:12:34.085271",
     "status": "completed"
    },
    "tags": []
   },
   "outputs": [
    {
     "name": "stdout",
     "output_type": "stream",
     "text": [
      "284807\n"
     ]
    }
   ],
   "source": [
    "print(fraud.shape[0] + not_fraud.shape[0])"
   ]
  },
  {
   "cell_type": "code",
   "execution_count": 9,
   "id": "10284439",
   "metadata": {
    "execution": {
     "iopub.execute_input": "2024-06-14T10:12:34.116701Z",
     "iopub.status.busy": "2024-06-14T10:12:34.116305Z",
     "iopub.status.idle": "2024-06-14T10:12:34.161190Z",
     "shell.execute_reply": "2024-06-14T10:12:34.159659Z"
    },
    "papermill": {
     "duration": 0.055756,
     "end_time": "2024-06-14T10:12:34.164274",
     "exception": false,
     "start_time": "2024-06-14T10:12:34.108518",
     "status": "completed"
    },
    "tags": []
   },
   "outputs": [
    {
     "name": "stdout",
     "output_type": "stream",
     "text": [
      "True\n"
     ]
    },
    {
     "data": {
      "text/html": [
       "<div>\n",
       "<style scoped>\n",
       "    .dataframe tbody tr th:only-of-type {\n",
       "        vertical-align: middle;\n",
       "    }\n",
       "\n",
       "    .dataframe tbody tr th {\n",
       "        vertical-align: top;\n",
       "    }\n",
       "\n",
       "    .dataframe thead th {\n",
       "        text-align: right;\n",
       "    }\n",
       "</style>\n",
       "<table border=\"1\" class=\"dataframe\">\n",
       "  <thead>\n",
       "    <tr style=\"text-align: right;\">\n",
       "      <th></th>\n",
       "      <th>Time</th>\n",
       "      <th>V1</th>\n",
       "      <th>V2</th>\n",
       "      <th>V3</th>\n",
       "      <th>V4</th>\n",
       "      <th>V5</th>\n",
       "      <th>V6</th>\n",
       "      <th>V7</th>\n",
       "      <th>V8</th>\n",
       "      <th>V9</th>\n",
       "      <th>...</th>\n",
       "      <th>V21</th>\n",
       "      <th>V22</th>\n",
       "      <th>V23</th>\n",
       "      <th>V24</th>\n",
       "      <th>V25</th>\n",
       "      <th>V26</th>\n",
       "      <th>V27</th>\n",
       "      <th>V28</th>\n",
       "      <th>Amount</th>\n",
       "      <th>Class</th>\n",
       "    </tr>\n",
       "  </thead>\n",
       "  <tbody>\n",
       "    <tr>\n",
       "      <th>199961</th>\n",
       "      <td>133217.0</td>\n",
       "      <td>-2.757520</td>\n",
       "      <td>1.935983</td>\n",
       "      <td>-1.000316</td>\n",
       "      <td>-1.254380</td>\n",
       "      <td>0.750612</td>\n",
       "      <td>-0.880966</td>\n",
       "      <td>1.451071</td>\n",
       "      <td>-0.604253</td>\n",
       "      <td>2.338647</td>\n",
       "      <td>...</td>\n",
       "      <td>-0.871670</td>\n",
       "      <td>-0.786984</td>\n",
       "      <td>0.221016</td>\n",
       "      <td>-0.734718</td>\n",
       "      <td>0.267916</td>\n",
       "      <td>0.182085</td>\n",
       "      <td>0.855695</td>\n",
       "      <td>1.016791</td>\n",
       "      <td>8.99</td>\n",
       "      <td>0</td>\n",
       "    </tr>\n",
       "    <tr>\n",
       "      <th>166705</th>\n",
       "      <td>118260.0</td>\n",
       "      <td>-0.735338</td>\n",
       "      <td>1.564548</td>\n",
       "      <td>1.981192</td>\n",
       "      <td>4.301415</td>\n",
       "      <td>0.143086</td>\n",
       "      <td>0.929185</td>\n",
       "      <td>0.420675</td>\n",
       "      <td>-0.194068</td>\n",
       "      <td>-0.553059</td>\n",
       "      <td>...</td>\n",
       "      <td>0.076843</td>\n",
       "      <td>1.204828</td>\n",
       "      <td>-0.168928</td>\n",
       "      <td>0.018150</td>\n",
       "      <td>-0.544830</td>\n",
       "      <td>0.464067</td>\n",
       "      <td>0.511318</td>\n",
       "      <td>0.053816</td>\n",
       "      <td>29.21</td>\n",
       "      <td>0</td>\n",
       "    </tr>\n",
       "    <tr>\n",
       "      <th>245806</th>\n",
       "      <td>152916.0</td>\n",
       "      <td>-1.777513</td>\n",
       "      <td>1.455238</td>\n",
       "      <td>0.533872</td>\n",
       "      <td>-1.290966</td>\n",
       "      <td>-0.612554</td>\n",
       "      <td>1.521816</td>\n",
       "      <td>-2.127676</td>\n",
       "      <td>-1.294106</td>\n",
       "      <td>0.105510</td>\n",
       "      <td>...</td>\n",
       "      <td>-0.883564</td>\n",
       "      <td>1.421628</td>\n",
       "      <td>0.048104</td>\n",
       "      <td>-0.167640</td>\n",
       "      <td>-0.387392</td>\n",
       "      <td>0.018845</td>\n",
       "      <td>0.027647</td>\n",
       "      <td>0.126193</td>\n",
       "      <td>8.49</td>\n",
       "      <td>0</td>\n",
       "    </tr>\n",
       "    <tr>\n",
       "      <th>240524</th>\n",
       "      <td>150640.0</td>\n",
       "      <td>-0.995409</td>\n",
       "      <td>0.230255</td>\n",
       "      <td>-0.974951</td>\n",
       "      <td>-0.601957</td>\n",
       "      <td>0.724617</td>\n",
       "      <td>-0.232162</td>\n",
       "      <td>0.811518</td>\n",
       "      <td>0.477320</td>\n",
       "      <td>-0.154494</td>\n",
       "      <td>...</td>\n",
       "      <td>0.070346</td>\n",
       "      <td>-0.239436</td>\n",
       "      <td>0.326931</td>\n",
       "      <td>0.138084</td>\n",
       "      <td>-0.580567</td>\n",
       "      <td>-0.242390</td>\n",
       "      <td>0.027104</td>\n",
       "      <td>0.112042</td>\n",
       "      <td>163.38</td>\n",
       "      <td>0</td>\n",
       "    </tr>\n",
       "    <tr>\n",
       "      <th>278119</th>\n",
       "      <td>168047.0</td>\n",
       "      <td>0.034417</td>\n",
       "      <td>0.868929</td>\n",
       "      <td>0.305778</td>\n",
       "      <td>-0.581485</td>\n",
       "      <td>0.444978</td>\n",
       "      <td>-1.141594</td>\n",
       "      <td>1.006268</td>\n",
       "      <td>-0.217971</td>\n",
       "      <td>-0.074999</td>\n",
       "      <td>...</td>\n",
       "      <td>-0.257281</td>\n",
       "      <td>-0.553135</td>\n",
       "      <td>0.066470</td>\n",
       "      <td>0.045474</td>\n",
       "      <td>-0.483306</td>\n",
       "      <td>0.137097</td>\n",
       "      <td>0.248706</td>\n",
       "      <td>0.098179</td>\n",
       "      <td>0.89</td>\n",
       "      <td>0</td>\n",
       "    </tr>\n",
       "  </tbody>\n",
       "</table>\n",
       "<p>5 rows × 31 columns</p>\n",
       "</div>"
      ],
      "text/plain": [
       "            Time        V1        V2        V3        V4        V5        V6  \\\n",
       "199961  133217.0 -2.757520  1.935983 -1.000316 -1.254380  0.750612 -0.880966   \n",
       "166705  118260.0 -0.735338  1.564548  1.981192  4.301415  0.143086  0.929185   \n",
       "245806  152916.0 -1.777513  1.455238  0.533872 -1.290966 -0.612554  1.521816   \n",
       "240524  150640.0 -0.995409  0.230255 -0.974951 -0.601957  0.724617 -0.232162   \n",
       "278119  168047.0  0.034417  0.868929  0.305778 -0.581485  0.444978 -1.141594   \n",
       "\n",
       "              V7        V8        V9  ...       V21       V22       V23  \\\n",
       "199961  1.451071 -0.604253  2.338647  ... -0.871670 -0.786984  0.221016   \n",
       "166705  0.420675 -0.194068 -0.553059  ...  0.076843  1.204828 -0.168928   \n",
       "245806 -2.127676 -1.294106  0.105510  ... -0.883564  1.421628  0.048104   \n",
       "240524  0.811518  0.477320 -0.154494  ...  0.070346 -0.239436  0.326931   \n",
       "278119  1.006268 -0.217971 -0.074999  ... -0.257281 -0.553135  0.066470   \n",
       "\n",
       "             V24       V25       V26       V27       V28  Amount  Class  \n",
       "199961 -0.734718  0.267916  0.182085  0.855695  1.016791    8.99      0  \n",
       "166705  0.018150 -0.544830  0.464067  0.511318  0.053816   29.21      0  \n",
       "245806 -0.167640 -0.387392  0.018845  0.027647  0.126193    8.49      0  \n",
       "240524  0.138084 -0.580567 -0.242390  0.027104  0.112042  163.38      0  \n",
       "278119  0.045474 -0.483306  0.137097  0.248706  0.098179    0.89      0  \n",
       "\n",
       "[5 rows x 31 columns]"
      ]
     },
     "execution_count": 9,
     "metadata": {},
     "output_type": "execute_result"
    }
   ],
   "source": [
    "new_sample = not_fraud.sample(492)\n",
    "print(new_sample[\"Class\"].nunique() == 1)\n",
    "new_sample.head()"
   ]
  },
  {
   "cell_type": "code",
   "execution_count": 10,
   "id": "fe5e5385",
   "metadata": {
    "execution": {
     "iopub.execute_input": "2024-06-14T10:12:34.179806Z",
     "iopub.status.busy": "2024-06-14T10:12:34.179397Z",
     "iopub.status.idle": "2024-06-14T10:12:34.187993Z",
     "shell.execute_reply": "2024-06-14T10:12:34.186879Z"
    },
    "papermill": {
     "duration": 0.02009,
     "end_time": "2024-06-14T10:12:34.191219",
     "exception": false,
     "start_time": "2024-06-14T10:12:34.171129",
     "status": "completed"
    },
    "tags": []
   },
   "outputs": [
    {
     "name": "stdout",
     "output_type": "stream",
     "text": [
      "(984, 31)\n",
      "Class\n",
      "0    492\n",
      "1    492\n",
      "Name: count, dtype: int64\n"
     ]
    }
   ],
   "source": [
    "test = pd.concat([new_sample, fraud])\n",
    "print(test.shape)\n",
    "print(test[\"Class\"].value_counts())"
   ]
  },
  {
   "cell_type": "code",
   "execution_count": 11,
   "id": "3adb6a31",
   "metadata": {
    "execution": {
     "iopub.execute_input": "2024-06-14T10:12:34.207371Z",
     "iopub.status.busy": "2024-06-14T10:12:34.206923Z",
     "iopub.status.idle": "2024-06-14T10:12:34.213867Z",
     "shell.execute_reply": "2024-06-14T10:12:34.212654Z"
    },
    "papermill": {
     "duration": 0.017817,
     "end_time": "2024-06-14T10:12:34.216404",
     "exception": false,
     "start_time": "2024-06-14T10:12:34.198587",
     "status": "completed"
    },
    "tags": []
   },
   "outputs": [],
   "source": [
    "x = test.drop([\"Class\"], axis = 1)\n",
    "x.head()\n",
    "y = test[\"Class\"]"
   ]
  },
  {
   "cell_type": "code",
   "execution_count": 12,
   "id": "6b9e10c2",
   "metadata": {
    "execution": {
     "iopub.execute_input": "2024-06-14T10:12:34.232188Z",
     "iopub.status.busy": "2024-06-14T10:12:34.231729Z",
     "iopub.status.idle": "2024-06-14T10:12:34.241292Z",
     "shell.execute_reply": "2024-06-14T10:12:34.239803Z"
    },
    "papermill": {
     "duration": 0.021043,
     "end_time": "2024-06-14T10:12:34.244382",
     "exception": false,
     "start_time": "2024-06-14T10:12:34.223339",
     "status": "completed"
    },
    "tags": []
   },
   "outputs": [],
   "source": [
    "x_train, x_test, y_train, y_test = train_test_split(x, y, test_size = 0.2, random_state=42)"
   ]
  }
 ],
 "metadata": {
  "kaggle": {
   "accelerator": "none",
   "dataSources": [
    {
     "datasetId": 310,
     "sourceId": 23498,
     "sourceType": "datasetVersion"
    }
   ],
   "dockerImageVersionId": 30732,
   "isGpuEnabled": false,
   "isInternetEnabled": false,
   "language": "python",
   "sourceType": "notebook"
  },
  "kernelspec": {
   "display_name": "Python 3",
   "language": "python",
   "name": "python3"
  },
  "language_info": {
   "codemirror_mode": {
    "name": "ipython",
    "version": 3
   },
   "file_extension": ".py",
   "mimetype": "text/x-python",
   "name": "python",
   "nbconvert_exporter": "python",
   "pygments_lexer": "ipython3",
   "version": "3.10.13"
  },
  "papermill": {
   "default_parameters": {},
   "duration": 11.619255,
   "end_time": "2024-06-14T10:12:34.876570",
   "environment_variables": {},
   "exception": null,
   "input_path": "__notebook__.ipynb",
   "output_path": "__notebook__.ipynb",
   "parameters": {},
   "start_time": "2024-06-14T10:12:23.257315",
   "version": "2.5.0"
  }
 },
 "nbformat": 4,
 "nbformat_minor": 5
}
